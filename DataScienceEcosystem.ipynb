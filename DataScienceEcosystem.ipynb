{
 "cells": [
  {
   "cell_type": "markdown",
   "id": "0ade5634",
   "metadata": {},
   "source": [
    "# Data Science Tools and Ecosystem"
   ]
  },
  {
   "cell_type": "markdown",
   "id": "76027f9f",
   "metadata": {},
   "source": [
    "In this notebook, Data Science Tools and Ecosystem are summarized"
   ]
  },
  {
   "cell_type": "markdown",
   "id": "d156e667",
   "metadata": {},
   "source": [
    "<b> Objectives: </b>\n",
    "    <ul>\n",
    "    <li> Popular Languages </li>\n",
    "    <li> Common Libraries </li>\n",
    "    <li> Arithmetic Examples </li>\n",
    "    </ul>"
   ]
  },
  {
   "cell_type": "markdown",
   "id": "4e02e683",
   "metadata": {},
   "source": [
    "Some of the popular languages that Data Scientists use are:\n",
    "<ol>\n",
    "<li>R</li>\n",
    "<li>SQL</li>\n",
    "<li>Python</li>\n",
    "</ol>"
   ]
  },
  {
   "cell_type": "markdown",
   "id": "89e5aa73",
   "metadata": {},
   "source": [
    "Some of the commonly used libraries use by Data Scientists include:\n",
    "<ol>\n",
    "<li>TensorFlow</li>\n",
    "<li>Pandas</li>\n",
    "<li>PyTorch</li>\n",
    "</ol>"
   ]
  },
  {
   "cell_type": "markdown",
   "id": "0a9e5de8",
   "metadata": {},
   "source": [
    "| Data Science Tools |\n",
    "| ------------------ |\n",
    "| RStudio |\n",
    "| Apache Spark|\n",
    "| TensorFlow |\n"
   ]
  },
  {
   "cell_type": "markdown",
   "id": "7cecc318",
   "metadata": {},
   "source": [
    "### Below are a few examples of evaluating arithmetic expressions in Python"
   ]
  },
  {
   "cell_type": "code",
   "execution_count": 4,
   "id": "d99e84c6",
   "metadata": {},
   "outputs": [
    {
     "name": "stdout",
     "output_type": "stream",
     "text": [
      "This is a simple arithmetic expression to multiply then add integers\n"
     ]
    },
    {
     "data": {
      "text/plain": [
       "17"
      ]
     },
     "execution_count": 4,
     "metadata": {},
     "output_type": "execute_result"
    }
   ],
   "source": [
    "print(\"This is a simple arithmetic expression to multiply then add integers\")\n",
    "(3*4)+5"
   ]
  },
  {
   "cell_type": "code",
   "execution_count": 14,
   "id": "ddb346a8",
   "metadata": {},
   "outputs": [
    {
     "name": "stdout",
     "output_type": "stream",
     "text": [
      "This will convert 200 minutes to hours by dividing by 60\n",
      "3 hours and 20 minutes\n"
     ]
    }
   ],
   "source": [
    "print(\"This will convert 200 minutes to hours by dividing by 60\")\n",
    "print(200//60, \"hours and\", 200%60, \"minutes\")"
   ]
  },
  {
   "cell_type": "markdown",
   "id": "96a7b2a9",
   "metadata": {},
   "source": [
    "## Author\n",
    "Alex Martinez"
   ]
  },
  {
   "cell_type": "code",
   "execution_count": null,
   "id": "768369c6",
   "metadata": {},
   "outputs": [],
   "source": []
  }
 ],
 "metadata": {
  "kernelspec": {
   "display_name": "Python 3 (ipykernel)",
   "language": "python",
   "name": "python3"
  },
  "language_info": {
   "codemirror_mode": {
    "name": "ipython",
    "version": 3
   },
   "file_extension": ".py",
   "mimetype": "text/x-python",
   "name": "python",
   "nbconvert_exporter": "python",
   "pygments_lexer": "ipython3",
   "version": "3.11.4"
  }
 },
 "nbformat": 4,
 "nbformat_minor": 5
}
